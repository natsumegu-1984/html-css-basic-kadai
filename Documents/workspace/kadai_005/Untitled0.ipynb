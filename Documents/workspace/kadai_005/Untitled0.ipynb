{
  "nbformat": 4,
  "nbformat_minor": 0,
  "metadata": {
    "colab": {
      "provenance": []
    },
    "kernelspec": {
      "name": "python3",
      "display_name": "Python 3"
    },
    "language_info": {
      "name": "python"
    }
  },
  "cells": [
    {
      "cell_type": "code",
      "source": [],
      "metadata": {
        "id": "Jr_9x16sD27M"
      },
      "execution_count": null,
      "outputs": []
    },
    {
      "cell_type": "code",
      "source": [
        "# 台形の上辺と下辺、高さを定義\n",
        "upmost = 10\n",
        "down = 20\n",
        "high = 5\n",
        "\n",
        "# 台形の面積を計算\n",
        "area = (upmost + down) * high / 2\n",
        "\n",
        "# 面積の表示\n",
        "print(str(area) + \"cm²\")"
      ],
      "metadata": {
        "colab": {
          "base_uri": "https://localhost:8080/"
        },
        "id": "1RULZeBGCbzi",
        "outputId": "1b582b6b-e1e1-4c80-dc3d-2a45fd27d9c5"
      },
      "execution_count": 13,
      "outputs": [
        {
          "output_type": "stream",
          "name": "stdout",
          "text": [
            "75.0cm²\n"
          ]
        }
      ]
    }
  ]
}